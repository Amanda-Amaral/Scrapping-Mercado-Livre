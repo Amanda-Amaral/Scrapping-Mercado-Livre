{
 "cells": [
  {
   "cell_type": "code",
   "execution_count": 8,
   "id": "e8ab596a-a4ac-4a03-a01a-13a4534e8b91",
   "metadata": {},
   "outputs": [],
   "source": [
    "import pandas as pd"
   ]
  },
  {
   "cell_type": "code",
   "execution_count": 2,
   "id": "b1d46be3-f109-4984-8a46-770d4edc7056",
   "metadata": {},
   "outputs": [],
   "source": [
    "df = pd.read_csv(\"Resultados_semOutliers_ML_Barra.csv\")"
   ]
  },
  {
   "cell_type": "code",
   "execution_count": 3,
   "id": "e1357c57-445d-46f9-bce4-ef21e546ee72",
   "metadata": {},
   "outputs": [
    {
     "data": {
      "text/html": [
       "<div>\n",
       "<style scoped>\n",
       "    .dataframe tbody tr th:only-of-type {\n",
       "        vertical-align: middle;\n",
       "    }\n",
       "\n",
       "    .dataframe tbody tr th {\n",
       "        vertical-align: top;\n",
       "    }\n",
       "\n",
       "    .dataframe thead th {\n",
       "        text-align: right;\n",
       "    }\n",
       "</style>\n",
       "<table border=\"1\" class=\"dataframe\">\n",
       "  <thead>\n",
       "    <tr style=\"text-align: right;\">\n",
       "      <th></th>\n",
       "      <th>Unnamed: 0</th>\n",
       "      <th>Unnamed: 0.1</th>\n",
       "      <th>Url</th>\n",
       "      <th>Preço</th>\n",
       "      <th>Titulo Imóvel</th>\n",
       "      <th>Endereço</th>\n",
       "      <th>Área</th>\n",
       "      <th>Número de Quartos</th>\n",
       "    </tr>\n",
       "  </thead>\n",
       "  <tbody>\n",
       "    <tr>\n",
       "      <th>0</th>\n",
       "      <td>0</td>\n",
       "      <td>0.0</td>\n",
       "      <td>https://apartamento.mercadolivre.com.br/MLB-21...</td>\n",
       "      <td>1900000.0</td>\n",
       "      <td>Apartamento À Venda Em Rio De Janeiro - 46395</td>\n",
       "      <td>Rua Henrique De Moura Costa, Barra Da Tijuca, ...</td>\n",
       "      <td>169.0</td>\n",
       "      <td>3.0</td>\n",
       "    </tr>\n",
       "    <tr>\n",
       "      <th>1</th>\n",
       "      <td>1</td>\n",
       "      <td>1.0</td>\n",
       "      <td>https://apartamento.mercadolivre.com.br/MLB-20...</td>\n",
       "      <td>1922800.0</td>\n",
       "      <td>Cobertura Península Green Garden - Barra Da Ti...</td>\n",
       "      <td>Avenida Das Acácias Da Península, Barra Da Tij...</td>\n",
       "      <td>203.0</td>\n",
       "      <td>3.0</td>\n",
       "    </tr>\n",
       "    <tr>\n",
       "      <th>2</th>\n",
       "      <td>2</td>\n",
       "      <td>2.0</td>\n",
       "      <td>https://apartamento.mercadolivre.com.br/MLB-19...</td>\n",
       "      <td>4130000.0</td>\n",
       "      <td>Apartamento Com 3 Dormitórios À Venda, 170 M² ...</td>\n",
       "      <td>Avenida Lúcio Costa, Barra Da Tijuca, Rio De J...</td>\n",
       "      <td>170.0</td>\n",
       "      <td>3.0</td>\n",
       "    </tr>\n",
       "    <tr>\n",
       "      <th>3</th>\n",
       "      <td>3</td>\n",
       "      <td>3.0</td>\n",
       "      <td>https://apartamento.mercadolivre.com.br/MLB-20...</td>\n",
       "      <td>1350000.0</td>\n",
       "      <td>Apartamento Com 2 Dormitórios, 75 M² - Venda P...</td>\n",
       "      <td>Barra Da Tijuca, Rio De Janeiro Zona Oeste, Ri...</td>\n",
       "      <td>75.0</td>\n",
       "      <td>2.0</td>\n",
       "    </tr>\n",
       "    <tr>\n",
       "      <th>4</th>\n",
       "      <td>4</td>\n",
       "      <td>4.0</td>\n",
       "      <td>https://apartamento.mercadolivre.com.br/MLB-21...</td>\n",
       "      <td>3400000.0</td>\n",
       "      <td>Apartamento Duplex Com 3 Dormitórios À Venda, ...</td>\n",
       "      <td>Avenida Lúcio Costa, Barra Da Tijuca, Rio De J...</td>\n",
       "      <td>304.0</td>\n",
       "      <td>3.0</td>\n",
       "    </tr>\n",
       "  </tbody>\n",
       "</table>\n",
       "</div>"
      ],
      "text/plain": [
       "   Unnamed: 0  Unnamed: 0.1  \\\n",
       "0           0           0.0   \n",
       "1           1           1.0   \n",
       "2           2           2.0   \n",
       "3           3           3.0   \n",
       "4           4           4.0   \n",
       "\n",
       "                                                 Url      Preço  \\\n",
       "0  https://apartamento.mercadolivre.com.br/MLB-21...  1900000.0   \n",
       "1  https://apartamento.mercadolivre.com.br/MLB-20...  1922800.0   \n",
       "2  https://apartamento.mercadolivre.com.br/MLB-19...  4130000.0   \n",
       "3  https://apartamento.mercadolivre.com.br/MLB-20...  1350000.0   \n",
       "4  https://apartamento.mercadolivre.com.br/MLB-21...  3400000.0   \n",
       "\n",
       "                                       Titulo Imóvel  \\\n",
       "0      Apartamento À Venda Em Rio De Janeiro - 46395   \n",
       "1  Cobertura Península Green Garden - Barra Da Ti...   \n",
       "2  Apartamento Com 3 Dormitórios À Venda, 170 M² ...   \n",
       "3  Apartamento Com 2 Dormitórios, 75 M² - Venda P...   \n",
       "4  Apartamento Duplex Com 3 Dormitórios À Venda, ...   \n",
       "\n",
       "                                            Endereço   Área  Número de Quartos  \n",
       "0  Rua Henrique De Moura Costa, Barra Da Tijuca, ...  169.0                3.0  \n",
       "1  Avenida Das Acácias Da Península, Barra Da Tij...  203.0                3.0  \n",
       "2  Avenida Lúcio Costa, Barra Da Tijuca, Rio De J...  170.0                3.0  \n",
       "3  Barra Da Tijuca, Rio De Janeiro Zona Oeste, Ri...   75.0                2.0  \n",
       "4  Avenida Lúcio Costa, Barra Da Tijuca, Rio De J...  304.0                3.0  "
      ]
     },
     "execution_count": 3,
     "metadata": {},
     "output_type": "execute_result"
    }
   ],
   "source": [
    "df.head()"
   ]
  },
  {
   "cell_type": "code",
   "execution_count": 130,
   "id": "5f57e3a9-976a-471d-87a2-81970304b8f1",
   "metadata": {},
   "outputs": [],
   "source": [
    "import numpy as np\n",
    "import scikitplot as skplt\n",
    "from sklearn.model_selection import train_test_split, GridSearchCV\n",
    "from sklearn.preprocessing import StandardScaler, LabelEncoder, MinMaxScaler\n",
    "from sklearn.tree import DecisionTreeClassifier, plot_tree\n",
    "from sklearn.ensemble import RandomForestClassifier\n",
    "from sklearn.linear_model import LogisticRegression\n",
    "from sklearn.metrics import classification_report, confusion_matrix\n",
    "from sklearn.neighbors import KNeighborsRegressor\n",
    "from sklearn.metrics import mean_absolute_error, make_scorer\n",
    "from scikitplot.metrics import plot_confusion_matrix\n",
    "import seaborn as sns\n",
    "import matplotlib.pyplot as plt\n",
    "#from catboost import CatBoostRegressor"
   ]
  },
  {
   "cell_type": "code",
   "execution_count": 5,
   "id": "e430820e-9eda-4b77-b66b-0c59c671a914",
   "metadata": {},
   "outputs": [
    {
     "name": "stdout",
     "output_type": "stream",
     "text": [
      "<class 'pandas.core.frame.DataFrame'>\n",
      "RangeIndex: 1882 entries, 0 to 1881\n",
      "Data columns (total 8 columns):\n",
      " #   Column             Non-Null Count  Dtype  \n",
      "---  ------             --------------  -----  \n",
      " 0   Unnamed: 0         1882 non-null   int64  \n",
      " 1   Unnamed: 0.1       1718 non-null   float64\n",
      " 2   Url                1718 non-null   object \n",
      " 3   Preço              1718 non-null   float64\n",
      " 4   Titulo Imóvel      1718 non-null   object \n",
      " 5   Endereço           1718 non-null   object \n",
      " 6   Área               1718 non-null   float64\n",
      " 7   Número de Quartos  1717 non-null   float64\n",
      "dtypes: float64(4), int64(1), object(3)\n",
      "memory usage: 117.8+ KB\n"
     ]
    }
   ],
   "source": [
    "df.info()"
   ]
  },
  {
   "cell_type": "code",
   "execution_count": 6,
   "id": "01e049ab-1c90-4989-b998-dcfdfb45bf5f",
   "metadata": {},
   "outputs": [],
   "source": [
    "del df[\"Unnamed: 0.1\"]\n",
    "del df[\"Unnamed: 0\"]"
   ]
  },
  {
   "cell_type": "code",
   "execution_count": 7,
   "id": "cc360d25-5eaa-4160-b7fa-25dd5c8eb6c1",
   "metadata": {},
   "outputs": [
    {
     "name": "stdout",
     "output_type": "stream",
     "text": [
      "<class 'pandas.core.frame.DataFrame'>\n",
      "RangeIndex: 1882 entries, 0 to 1881\n",
      "Data columns (total 6 columns):\n",
      " #   Column             Non-Null Count  Dtype  \n",
      "---  ------             --------------  -----  \n",
      " 0   Url                1718 non-null   object \n",
      " 1   Preço              1718 non-null   float64\n",
      " 2   Titulo Imóvel      1718 non-null   object \n",
      " 3   Endereço           1718 non-null   object \n",
      " 4   Área               1718 non-null   float64\n",
      " 5   Número de Quartos  1717 non-null   float64\n",
      "dtypes: float64(3), object(3)\n",
      "memory usage: 88.3+ KB\n"
     ]
    }
   ],
   "source": [
    "df.info()"
   ]
  },
  {
   "cell_type": "code",
   "execution_count": 9,
   "id": "6a87435d-13e3-4d50-995e-af2c079a035f",
   "metadata": {},
   "outputs": [
    {
     "data": {
      "text/plain": [
       "Url                  164\n",
       "Preço                164\n",
       "Titulo Imóvel        164\n",
       "Endereço             164\n",
       "Área                 164\n",
       "Número de Quartos    165\n",
       "dtype: int64"
      ]
     },
     "execution_count": 9,
     "metadata": {},
     "output_type": "execute_result"
    }
   ],
   "source": [
    "df.isnull().sum()[:15]"
   ]
  },
  {
   "cell_type": "code",
   "execution_count": 36,
   "id": "989d6eee-47fc-45eb-8588-bbdf94c4e5fa",
   "metadata": {},
   "outputs": [],
   "source": [
    "df = df.dropna(subset=[\"Url\"]).reset_index(drop=True)"
   ]
  },
  {
   "cell_type": "code",
   "execution_count": 38,
   "id": "f2ce570b-38c6-4aa9-b7e5-e1a4fd9fcd55",
   "metadata": {},
   "outputs": [
    {
     "data": {
      "text/plain": [
       "Url                  0\n",
       "Preço                0\n",
       "Titulo Imóvel        0\n",
       "Endereço             0\n",
       "Área                 0\n",
       "Número de Quartos    0\n",
       "dtype: int64"
      ]
     },
     "execution_count": 38,
     "metadata": {},
     "output_type": "execute_result"
    }
   ],
   "source": [
    "df.isnull().sum()"
   ]
  },
  {
   "cell_type": "code",
   "execution_count": 39,
   "id": "77d61704-c10e-4d10-995b-662b5ae14f39",
   "metadata": {},
   "outputs": [
    {
     "data": {
      "text/plain": [
       "Url                  0\n",
       "Preço                0\n",
       "Titulo Imóvel        0\n",
       "Endereço             0\n",
       "Área                 0\n",
       "Número de Quartos    0\n",
       "dtype: int64"
      ]
     },
     "execution_count": 39,
     "metadata": {},
     "output_type": "execute_result"
    }
   ],
   "source": [
    "df = df.dropna(subset=[\"Número de Quartos\"]).reset_index(drop=True)\n",
    "df.isnull().sum()"
   ]
  },
  {
   "cell_type": "code",
   "execution_count": 22,
   "id": "cdc138b2-ffc7-4e5a-b531-abb2ecaaca6d",
   "metadata": {},
   "outputs": [
    {
     "data": {
      "text/html": [
       "<div>\n",
       "<style scoped>\n",
       "    .dataframe tbody tr th:only-of-type {\n",
       "        vertical-align: middle;\n",
       "    }\n",
       "\n",
       "    .dataframe tbody tr th {\n",
       "        vertical-align: top;\n",
       "    }\n",
       "\n",
       "    .dataframe thead th {\n",
       "        text-align: right;\n",
       "    }\n",
       "</style>\n",
       "<table border=\"1\" class=\"dataframe\">\n",
       "  <thead>\n",
       "    <tr style=\"text-align: right;\">\n",
       "      <th></th>\n",
       "      <th>Url</th>\n",
       "      <th>Preço</th>\n",
       "      <th>Titulo Imóvel</th>\n",
       "      <th>Endereço</th>\n",
       "      <th>Área</th>\n",
       "      <th>Número de Quartos</th>\n",
       "    </tr>\n",
       "  </thead>\n",
       "  <tbody>\n",
       "  </tbody>\n",
       "</table>\n",
       "</div>"
      ],
      "text/plain": [
       "Empty DataFrame\n",
       "Columns: [Url, Preço, Titulo Imóvel, Endereço, Área, Número de Quartos]\n",
       "Index: []"
      ]
     },
     "execution_count": 22,
     "metadata": {},
     "output_type": "execute_result"
    }
   ],
   "source": [
    "df[df.duplicated(subset=[\"Url\", \"Preço\", \"Titulo Imóvel\", \"Endereço\", \"Área\", \"Número de Quartos\"])]"
   ]
  },
  {
   "cell_type": "code",
   "execution_count": 40,
   "id": "44782202-446b-43fe-9e52-f7a738675ae3",
   "metadata": {},
   "outputs": [
    {
     "data": {
      "text/plain": [
       "<seaborn.axisgrid.FacetGrid at 0x1dc4b7651f0>"
      ]
     },
     "execution_count": 40,
     "metadata": {},
     "output_type": "execute_result"
    },
    {
     "data": {
      "image/png": "[encoded data removed]",
      "text/plain": [
       "<Figure size 465.75x360 with 1 Axes>"
      ]
     },
     "metadata": {
      "needs_background": "light"
     },
     "output_type": "display_data"
    }
   ],
   "source": [
    "sns.lmplot(data=df, x=\"Área\", y=\"Preço\", hue=\"Número de Quartos\")"
   ]
  },
  {
   "cell_type": "code",
   "execution_count": 20,
   "id": "33fa52bf-321a-42f8-8133-b5cc0f769a53",
   "metadata": {},
   "outputs": [
    {
     "data": {
      "text/html": [
       "<div>\n",
       "<style scoped>\n",
       "    .dataframe tbody tr th:only-of-type {\n",
       "        vertical-align: middle;\n",
       "    }\n",
       "\n",
       "    .dataframe tbody tr th {\n",
       "        vertical-align: top;\n",
       "    }\n",
       "\n",
       "    .dataframe thead th {\n",
       "        text-align: right;\n",
       "    }\n",
       "</style>\n",
       "<table border=\"1\" class=\"dataframe\">\n",
       "  <thead>\n",
       "    <tr style=\"text-align: right;\">\n",
       "      <th></th>\n",
       "      <th>Preço</th>\n",
       "      <th>Área</th>\n",
       "      <th>Número de Quartos</th>\n",
       "    </tr>\n",
       "  </thead>\n",
       "  <tbody>\n",
       "    <tr>\n",
       "      <th>Preço</th>\n",
       "      <td>1.000000</td>\n",
       "      <td>0.867003</td>\n",
       "      <td>0.597866</td>\n",
       "    </tr>\n",
       "    <tr>\n",
       "      <th>Área</th>\n",
       "      <td>0.867003</td>\n",
       "      <td>1.000000</td>\n",
       "      <td>0.686915</td>\n",
       "    </tr>\n",
       "    <tr>\n",
       "      <th>Número de Quartos</th>\n",
       "      <td>0.597866</td>\n",
       "      <td>0.686915</td>\n",
       "      <td>1.000000</td>\n",
       "    </tr>\n",
       "  </tbody>\n",
       "</table>\n",
       "</div>"
      ],
      "text/plain": [
       "                      Preço      Área  Número de Quartos\n",
       "Preço              1.000000  0.867003           0.597866\n",
       "Área               0.867003  1.000000           0.686915\n",
       "Número de Quartos  0.597866  0.686915           1.000000"
      ]
     },
     "execution_count": 20,
     "metadata": {},
     "output_type": "execute_result"
    }
   ],
   "source": [
    "df[df.columns[1:6]].corr()"
   ]
  },
  {
   "cell_type": "code",
   "execution_count": 41,
   "id": "927d13d9-8f04-44f1-9aaf-6ff1c0b56dbe",
   "metadata": {},
   "outputs": [],
   "source": [
    "from sklearn.linear_model import LinearRegression, SGDRegressor, PassiveAggressiveRegressor\n",
    "from sklearn.ensemble import RandomForestRegressor\n",
    "from sklearn.model_selection import train_test_split"
   ]
  },
  {
   "cell_type": "code",
   "execution_count": 26,
   "id": "95c6b33e-277b-450a-86cf-809358856ebb",
   "metadata": {},
   "outputs": [],
   "source": [
    "features = [\"Área\", \"Número de Quartos\"]\n",
    "target = [\"Preço\"]\n",
    "model_input = df[features + target]"
   ]
  },
  {
   "cell_type": "code",
   "execution_count": 27,
   "id": "07ec056a-3ee6-47b2-98da-5e036f499403",
   "metadata": {},
   "outputs": [],
   "source": [
    "X = model_input[features]\n",
    "y = model_input[target].values.reshape(-1,)"
   ]
  },
  {
   "cell_type": "code",
   "execution_count": 28,
   "id": "961c2f40-f24c-42a8-b7de-cc7f2ece84f6",
   "metadata": {},
   "outputs": [],
   "source": [
    "X_train, X_test, y_train, y_test = train_test_split(X, y, test_size=.2, random_state=7775)"
   ]
  },
  {
   "cell_type": "code",
   "execution_count": 85,
   "id": "e8ad78ee-f24d-43bc-b79a-551620cc5632",
   "metadata": {},
   "outputs": [],
   "source": [
    "model = LinearRegression(fit_intercept=True, normalize =False)\n",
    "model.fit(X_train, y_train)\n",
    "y_pred = model.predict(X_test)"
   ]
  },
  {
   "cell_type": "code",
   "execution_count": 95,
   "id": "0db02e6d-865b-4356-955e-9b22f19926cb",
   "metadata": {},
   "outputs": [],
   "source": [
    "def mape(y_real, y_predicted): #Media do erro em porcentagem\n",
    "    return np.mean(np.abs(y_real - y_predicted)/y_real)"
   ]
  },
  {
   "cell_type": "code",
   "execution_count": 96,
   "id": "cedf7a44-1e4f-42b5-85ed-b7e6188dba82",
   "metadata": {},
   "outputs": [
    {
     "data": {
      "text/plain": [
       "0.23970613817697517"
      ]
     },
     "execution_count": 96,
     "metadata": {},
     "output_type": "execute_result"
    }
   ],
   "source": [
    "mape(y_test,y_pred)"
   ]
  },
  {
   "cell_type": "code",
   "execution_count": 97,
   "id": "9be50643-2a7b-4b42-ab16-8c244ba5eff5",
   "metadata": {},
   "outputs": [
    {
     "data": {
      "text/plain": [
       "0.2196992021501784"
      ]
     },
     "execution_count": 97,
     "metadata": {},
     "output_type": "execute_result"
    }
   ],
   "source": [
    "y_pred_train = model.predict(X_train)\n",
    "mape(y_pred_train,y_train)"
   ]
  },
  {
   "cell_type": "code",
   "execution_count": 74,
   "id": "488feadc-aa59-4d9a-b99e-56a86269331f",
   "metadata": {},
   "outputs": [
    {
     "data": {
      "text/plain": [
       "76491.82678454882"
      ]
     },
     "execution_count": 74,
     "metadata": {},
     "output_type": "execute_result"
    }
   ],
   "source": [
    "model.intercept_"
   ]
  },
  {
   "cell_type": "code",
   "execution_count": 126,
   "id": "3a355bd3-f3c2-441c-bcc4-60f31995a16c",
   "metadata": {},
   "outputs": [],
   "source": [
    "e = y_pred - y_test"
   ]
  },
  {
   "cell_type": "code",
   "execution_count": 76,
   "id": "f65cdf68-0833-4b40-a516-de23b64ff690",
   "metadata": {},
   "outputs": [
    {
     "data": {
      "text/plain": [
       "<matplotlib.lines.Line2D at 0x1dc4b6a1c40>"
      ]
     },
     "execution_count": 76,
     "metadata": {},
     "output_type": "execute_result"
    },
    {
     "data": {
      "image/png": "[encoded data removed]",
      "text/plain": [
       "<Figure size 432x288 with 1 Axes>"
      ]
     },
     "metadata": {
      "needs_background": "light"
     },
     "output_type": "display_data"
    }
   ],
   "source": [
    "plt.scatter(x=range(len(e)), y=e)\n",
    "plt.axhline(y=0, c=\"r\")"
   ]
  },
  {
   "cell_type": "code",
   "execution_count": 77,
   "id": "87f27104-bd3f-4f3d-9520-39074bf16b14",
   "metadata": {},
   "outputs": [
    {
     "data": {
      "text/plain": [
       "<matplotlib.lines.Line2D at 0x1dc4c934d30>"
      ]
     },
     "execution_count": 77,
     "metadata": {},
     "output_type": "execute_result"
    },
    {
     "data": {
      "image/png": "[encoded data removed]",
      "text/plain": [
       "<Figure size 432x288 with 1 Axes>"
      ]
     },
     "metadata": {
      "needs_background": "light"
     },
     "output_type": "display_data"
    }
   ],
   "source": [
    "sns.histplot(x=e)\n",
    "plt.axvline(x=0, c=\"r\")"
   ]
  },
  {
   "cell_type": "code",
   "execution_count": 104,
   "id": "a392b0ce-e5f6-481d-91d3-c1689dfdd39f",
   "metadata": {},
   "outputs": [],
   "source": [
    "grid_de_param={\"fit_intercept\":[True,False], \"normalize\":[True,False]}\n",
    "model = LinearRegression()"
   ]
  },
  {
   "cell_type": "code",
   "execution_count": 111,
   "id": "fad441f5-863a-4eff-8bba-b2d68a9e3741",
   "metadata": {},
   "outputs": [],
   "source": [
    "gs = GridSearchCV(model, param_grid=grid_de_param, cv=3, scoring = make_scorer(mape))"
   ]
  },
  {
   "cell_type": "code",
   "execution_count": 112,
   "id": "a9244ace-2de3-4e8f-8cbf-66da35618128",
   "metadata": {},
   "outputs": [
    {
     "data": {
      "text/plain": [
       "GridSearchCV(cv=3, estimator=LinearRegression(),\n",
       "             param_grid={'fit_intercept': [True, False],\n",
       "                         'normalize': [True, False]},\n",
       "             scoring=make_scorer(mape))"
      ]
     },
     "execution_count": 112,
     "metadata": {},
     "output_type": "execute_result"
    }
   ],
   "source": [
    "gs.fit(X_train,y_train)"
   ]
  },
  {
   "cell_type": "code",
   "execution_count": 113,
   "id": "6247a9ed-aded-4c00-9b62-977e6658c9a7",
   "metadata": {},
   "outputs": [
    {
     "data": {
      "text/plain": [
       "{'fit_intercept': True, 'normalize': False}"
      ]
     },
     "execution_count": 113,
     "metadata": {},
     "output_type": "execute_result"
    }
   ],
   "source": [
    "gs.best_params_"
   ]
  },
  {
   "cell_type": "code",
   "execution_count": 114,
   "id": "8d1b2a82-dbcd-405a-a5de-05b9b3476a2b",
   "metadata": {},
   "outputs": [
    {
     "data": {
      "text/html": [
       "<div>\n",
       "<style scoped>\n",
       "    .dataframe tbody tr th:only-of-type {\n",
       "        vertical-align: middle;\n",
       "    }\n",
       "\n",
       "    .dataframe tbody tr th {\n",
       "        vertical-align: top;\n",
       "    }\n",
       "\n",
       "    .dataframe thead th {\n",
       "        text-align: right;\n",
       "    }\n",
       "</style>\n",
       "<table border=\"1\" class=\"dataframe\">\n",
       "  <thead>\n",
       "    <tr style=\"text-align: right;\">\n",
       "      <th></th>\n",
       "      <th>mean_fit_time</th>\n",
       "      <th>std_fit_time</th>\n",
       "      <th>mean_score_time</th>\n",
       "      <th>std_score_time</th>\n",
       "      <th>param_fit_intercept</th>\n",
       "      <th>param_normalize</th>\n",
       "      <th>params</th>\n",
       "      <th>split0_test_score</th>\n",
       "      <th>split1_test_score</th>\n",
       "      <th>split2_test_score</th>\n",
       "      <th>mean_test_score</th>\n",
       "      <th>std_test_score</th>\n",
       "      <th>rank_test_score</th>\n",
       "    </tr>\n",
       "  </thead>\n",
       "  <tbody>\n",
       "    <tr>\n",
       "      <th>0</th>\n",
       "      <td>0.003665</td>\n",
       "      <td>0.000470</td>\n",
       "      <td>0.002331</td>\n",
       "      <td>4.706403e-04</td>\n",
       "      <td>True</td>\n",
       "      <td>True</td>\n",
       "      <td>{'fit_intercept': True, 'normalize': True}</td>\n",
       "      <td>0.227081</td>\n",
       "      <td>0.243228</td>\n",
       "      <td>0.248678</td>\n",
       "      <td>0.239662</td>\n",
       "      <td>0.009171</td>\n",
       "      <td>2</td>\n",
       "    </tr>\n",
       "    <tr>\n",
       "      <th>1</th>\n",
       "      <td>0.002331</td>\n",
       "      <td>0.000471</td>\n",
       "      <td>0.001000</td>\n",
       "      <td>1.946680e-07</td>\n",
       "      <td>True</td>\n",
       "      <td>False</td>\n",
       "      <td>{'fit_intercept': True, 'normalize': False}</td>\n",
       "      <td>0.227081</td>\n",
       "      <td>0.243228</td>\n",
       "      <td>0.248678</td>\n",
       "      <td>0.239662</td>\n",
       "      <td>0.009171</td>\n",
       "      <td>1</td>\n",
       "    </tr>\n",
       "    <tr>\n",
       "      <th>2</th>\n",
       "      <td>0.002998</td>\n",
       "      <td>0.000815</td>\n",
       "      <td>0.002665</td>\n",
       "      <td>4.717638e-04</td>\n",
       "      <td>False</td>\n",
       "      <td>True</td>\n",
       "      <td>{'fit_intercept': False, 'normalize': True}</td>\n",
       "      <td>0.219935</td>\n",
       "      <td>0.242841</td>\n",
       "      <td>0.237574</td>\n",
       "      <td>0.233450</td>\n",
       "      <td>0.009796</td>\n",
       "      <td>3</td>\n",
       "    </tr>\n",
       "    <tr>\n",
       "      <th>3</th>\n",
       "      <td>0.005331</td>\n",
       "      <td>0.000943</td>\n",
       "      <td>0.002665</td>\n",
       "      <td>4.707523e-04</td>\n",
       "      <td>False</td>\n",
       "      <td>False</td>\n",
       "      <td>{'fit_intercept': False, 'normalize': False}</td>\n",
       "      <td>0.219935</td>\n",
       "      <td>0.242841</td>\n",
       "      <td>0.237574</td>\n",
       "      <td>0.233450</td>\n",
       "      <td>0.009796</td>\n",
       "      <td>3</td>\n",
       "    </tr>\n",
       "  </tbody>\n",
       "</table>\n",
       "</div>"
      ],
      "text/plain": [
       "   mean_fit_time  std_fit_time  mean_score_time  std_score_time  \\\n",
       "0       0.003665      0.000470         0.002331    4.706403e-04   \n",
       "1       0.002331      0.000471         0.001000    1.946680e-07   \n",
       "2       0.002998      0.000815         0.002665    4.717638e-04   \n",
       "3       0.005331      0.000943         0.002665    4.707523e-04   \n",
       "\n",
       "  param_fit_intercept param_normalize  \\\n",
       "0                True            True   \n",
       "1                True           False   \n",
       "2               False            True   \n",
       "3               False           False   \n",
       "\n",
       "                                         params  split0_test_score  \\\n",
       "0    {'fit_intercept': True, 'normalize': True}           0.227081   \n",
       "1   {'fit_intercept': True, 'normalize': False}           0.227081   \n",
       "2   {'fit_intercept': False, 'normalize': True}           0.219935   \n",
       "3  {'fit_intercept': False, 'normalize': False}           0.219935   \n",
       "\n",
       "   split1_test_score  split2_test_score  mean_test_score  std_test_score  \\\n",
       "0           0.243228           0.248678         0.239662        0.009171   \n",
       "1           0.243228           0.248678         0.239662        0.009171   \n",
       "2           0.242841           0.237574         0.233450        0.009796   \n",
       "3           0.242841           0.237574         0.233450        0.009796   \n",
       "\n",
       "   rank_test_score  \n",
       "0                2  \n",
       "1                1  \n",
       "2                3  \n",
       "3                3  "
      ]
     },
     "execution_count": 114,
     "metadata": {},
     "output_type": "execute_result"
    }
   ],
   "source": [
    "pd.DataFrame(gs.cv_results_)"
   ]
  },
  {
   "cell_type": "code",
   "execution_count": 54,
   "id": "35e87300-3a00-438f-a3cc-82ed783e1abc",
   "metadata": {},
   "outputs": [],
   "source": [
    "scaler = MinMaxScaler(feature_range=(0,1))\n",
    "scaler.fit(X_train)\n",
    "scaled_X_train = scaler.transform(X_train)\n",
    "scaled_X_test = scaler.transform(X_test)"
   ]
  },
  {
   "cell_type": "code",
   "execution_count": 58,
   "id": "2598977b-879d-44ee-99c6-00e87e66eab1",
   "metadata": {},
   "outputs": [],
   "source": [
    "model2 = KNeighborsRegressor(n_neighbors=5)"
   ]
  },
  {
   "cell_type": "code",
   "execution_count": 59,
   "id": "bce4c519-5171-43fe-9006-ab0c993b951e",
   "metadata": {},
   "outputs": [
    {
     "data": {
      "text/plain": [
       "KNeighborsRegressor()"
      ]
     },
     "execution_count": 59,
     "metadata": {},
     "output_type": "execute_result"
    }
   ],
   "source": [
    "model2.fit(scaled_X_train, y_train)"
   ]
  },
  {
   "cell_type": "code",
   "execution_count": 69,
   "id": "140306ef-c45c-4902-bd85-de17c3582a20",
   "metadata": {},
   "outputs": [],
   "source": [
    "y_pred2 = model2.predict(scaled_X_test)"
   ]
  },
  {
   "cell_type": "code",
   "execution_count": 70,
   "id": "13e33903-6efc-453c-b120-12947881bd21",
   "metadata": {},
   "outputs": [],
   "source": [
    "y_pred_train2 = model2.predict(scaled_X_train)"
   ]
  },
  {
   "cell_type": "code",
   "execution_count": 92,
   "id": "f3e6ab3e-0acc-4cd0-9d6b-83f33e01b580",
   "metadata": {},
   "outputs": [
    {
     "data": {
      "text/plain": [
       "0.18197848305572986"
      ]
     },
     "execution_count": 92,
     "metadata": {},
     "output_type": "execute_result"
    }
   ],
   "source": [
    "mape(y_train, y_pred_train2)"
   ]
  },
  {
   "cell_type": "code",
   "execution_count": 93,
   "id": "72dc0471-cab2-462e-96fd-0f9c1cd28f7c",
   "metadata": {},
   "outputs": [
    {
     "data": {
      "text/plain": [
       "0.2175539554631258"
      ]
     },
     "execution_count": 93,
     "metadata": {},
     "output_type": "execute_result"
    }
   ],
   "source": [
    "mape(y_test, y_pred2)"
   ]
  },
  {
   "cell_type": "code",
   "execution_count": 88,
   "id": "af7c1294-cdbc-457a-8ef6-0a54af38f3b8",
   "metadata": {},
   "outputs": [],
   "source": [
    "residuals = y_test - y_pred2"
   ]
  },
  {
   "cell_type": "code",
   "execution_count": 89,
   "id": "13d9c9ad-be89-48ec-bc72-32edf9b79f18",
   "metadata": {},
   "outputs": [
    {
     "data": {
      "text/plain": [
       "-175.07965116279178"
      ]
     },
     "execution_count": 89,
     "metadata": {},
     "output_type": "execute_result"
    }
   ],
   "source": [
    "np.mean(residuals)"
   ]
  },
  {
   "cell_type": "code",
   "execution_count": 117,
   "id": "ed6e450a-602a-43a0-8299-2d4d5fed53aa",
   "metadata": {},
   "outputs": [
    {
     "data": {
      "text/plain": [
       "1899422.933139535"
      ]
     },
     "execution_count": 117,
     "metadata": {},
     "output_type": "execute_result"
    }
   ],
   "source": [
    "np.mean(y_test)"
   ]
  },
  {
   "cell_type": "code",
   "execution_count": 118,
   "id": "2d04b2ba-b5a2-4818-b72d-ab82984fccb8",
   "metadata": {},
   "outputs": [
    {
     "data": {
      "text/plain": [
       "9.217518021297373e-05"
      ]
     },
     "execution_count": 118,
     "metadata": {},
     "output_type": "execute_result"
    }
   ],
   "source": [
    "175.07965116279178/1899422.933139535"
   ]
  },
  {
   "cell_type": "code",
   "execution_count": 68,
   "id": "526faa40-6483-4d97-96e5-1e91ba309152",
   "metadata": {},
   "outputs": [
    {
     "data": {
      "text/plain": [
       "<matplotlib.lines.Line2D at 0x1dc4c94e430>"
      ]
     },
     "execution_count": 68,
     "metadata": {},
     "output_type": "execute_result"
    },
    {
     "data": {
      "image/png": "[encoded data removed]",
      "text/plain": [
       "<Figure size 432x288 with 1 Axes>"
      ]
     },
     "metadata": {
      "needs_background": "light"
     },
     "output_type": "display_data"
    }
   ],
   "source": [
    "sns.histplot(x=residuals)\n",
    "plt.axvline(x=0, c=\"r\")"
   ]
  },
  {
   "cell_type": "code",
   "execution_count": 120,
   "id": "858913f2-4828-4ba8-9fe6-e392d1a79038",
   "metadata": {},
   "outputs": [
    {
     "data": {
      "text/plain": [
       "<matplotlib.lines.Line2D at 0x1dc4d1e56d0>"
      ]
     },
     "execution_count": 120,
     "metadata": {},
     "output_type": "execute_result"
    },
    {
     "data": {
      "image/png": "[encoded data removed]",
      "text/plain": [
       "<Figure size 432x288 with 1 Axes>"
      ]
     },
     "metadata": {
      "needs_background": "light"
     },
     "output_type": "display_data"
    }
   ],
   "source": [
    "sns.scatterplot(y=residuals, x=range(len(residuals)))\n",
    "plt.axhline(y=0, c= \"r\")"
   ]
  },
  {
   "cell_type": "code",
   "execution_count": 128,
   "id": "fadc954a-b534-4371-b3bf-2ae2bd74495f",
   "metadata": {},
   "outputs": [
    {
     "data": {
      "text/plain": [
       "<matplotlib.lines.Line2D at 0x1dc4ca5ef70>"
      ]
     },
     "execution_count": 128,
     "metadata": {},
     "output_type": "execute_result"
    },
    {
     "data": {
      "image/png": "[encoded data removed]",
      "text/plain": [
       "<Figure size 432x288 with 1 Axes>"
      ]
     },
     "metadata": {
      "needs_background": "light"
     },
     "output_type": "display_data"
    }
   ],
   "source": [
    "sns.scatterplot(y=e, x=range(len(e)))\n",
    "plt.axhline(y=0, c= \"r\")"
   ]
  },
  {
   "cell_type": "code",
   "execution_count": null,
   "id": "55474e03-165b-4b05-b96c-41de4e2bff22",
   "metadata": {},
   "outputs": [],
   "source": []
  }
 ],
 "metadata": {
  "kernelspec": {
   "display_name": "Python 3 (ipykernel)",
   "language": "python",
   "name": "python3"
  },
  "language_info": {
   "codemirror_mode": {
    "name": "ipython",
    "version": 3
   },
   "file_extension": ".py",
   "mimetype": "text/x-python",
   "name": "python",
   "nbconvert_exporter": "python",
   "pygments_lexer": "ipython3",
   "version": "3.9.7"
  }
 },
 "nbformat": 4,
 "nbformat_minor": 5
}
