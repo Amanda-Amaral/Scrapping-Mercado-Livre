{
 "cells": [
  {
   "cell_type": "code",
   "execution_count": 48,
   "metadata": {},
   "outputs": [],
   "source": [
    "import pandas as pd\n",
    "import numpy as np\n",
    "from sklearn.model_selection import train_test_split\n",
    "from sklearn.preprocessing import StandardScaler, LabelEncoder\n",
    "from sklearn.tree import DecisionTreeClassifier, plot_tree\n",
    "from sklearn.ensemble import RandomForestClassifier\n",
    "from sklearn.linear_model import LogisticRegression\n",
    "from sklearn.metrics import classification_report, confusion_matrix\n",
    "from scikitplot.metrics import plot_confusion_matrix\n",
    "import seaborn as sns\n",
    "import matplotlib.pyplot as plt"
   ]
  },
  {
   "cell_type": "code",
   "execution_count": 49,
   "metadata": {},
   "outputs": [],
   "source": [
    "df = pd.read_csv(\"Resultados_MercadoLivre_Barra.csv\")"
   ]
  },
  {
   "cell_type": "code",
   "execution_count": 50,
   "metadata": {},
   "outputs": [
    {
     "data": {
      "text/plain": [
       "Index(['Unnamed: 0', 'Url', 'Preço', 'Titulo Imóvel', 'Endereço', 'Área',\n",
       "       'Número de Quartos'],\n",
       "      dtype='object')"
      ]
     },
     "execution_count": 50,
     "metadata": {},
     "output_type": "execute_result"
    }
   ],
   "source": [
    "df.columns"
   ]
  },
  {
   "cell_type": "code",
   "execution_count": 51,
   "metadata": {},
   "outputs": [],
   "source": [
    "df = df.drop(['Unnamed: 0'], axis=1)"
   ]
  },
  {
   "cell_type": "code",
   "execution_count": 52,
   "metadata": {},
   "outputs": [
    {
     "data": {
      "text/html": [
       "<div>\n",
       "<style scoped>\n",
       "    .dataframe tbody tr th:only-of-type {\n",
       "        vertical-align: middle;\n",
       "    }\n",
       "\n",
       "    .dataframe tbody tr th {\n",
       "        vertical-align: top;\n",
       "    }\n",
       "\n",
       "    .dataframe thead th {\n",
       "        text-align: right;\n",
       "    }\n",
       "</style>\n",
       "<table border=\"1\" class=\"dataframe\">\n",
       "  <thead>\n",
       "    <tr style=\"text-align: right;\">\n",
       "      <th></th>\n",
       "      <th>Url</th>\n",
       "      <th>Preço</th>\n",
       "      <th>Titulo Imóvel</th>\n",
       "      <th>Endereço</th>\n",
       "      <th>Área</th>\n",
       "      <th>Número de Quartos</th>\n",
       "    </tr>\n",
       "  </thead>\n",
       "  <tbody>\n",
       "    <tr>\n",
       "      <th>count</th>\n",
       "      <td>2016</td>\n",
       "      <td>2016</td>\n",
       "      <td>2016</td>\n",
       "      <td>2016</td>\n",
       "      <td>2016</td>\n",
       "      <td>2016</td>\n",
       "    </tr>\n",
       "    <tr>\n",
       "      <th>unique</th>\n",
       "      <td>2016</td>\n",
       "      <td>723</td>\n",
       "      <td>1978</td>\n",
       "      <td>380</td>\n",
       "      <td>413</td>\n",
       "      <td>8</td>\n",
       "    </tr>\n",
       "    <tr>\n",
       "      <th>top</th>\n",
       "      <td>https://apartamento.mercadolivre.com.br/MLB-21...</td>\n",
       "      <td>1.200.000</td>\n",
       "      <td>Apartamento Em Rio De Janeiro - Barra Da Tijuca</td>\n",
       "      <td>Barra Da Tijuca, Rio De Janeiro Zona Oeste, Ri...</td>\n",
       "      <td>100 m² construídos</td>\n",
       "      <td>4 quartos</td>\n",
       "    </tr>\n",
       "    <tr>\n",
       "      <th>freq</th>\n",
       "      <td>1</td>\n",
       "      <td>30</td>\n",
       "      <td>3</td>\n",
       "      <td>958</td>\n",
       "      <td>38</td>\n",
       "      <td>678</td>\n",
       "    </tr>\n",
       "  </tbody>\n",
       "</table>\n",
       "</div>"
      ],
      "text/plain": [
       "                                                      Url      Preço  \\\n",
       "count                                                2016       2016   \n",
       "unique                                               2016        723   \n",
       "top     https://apartamento.mercadolivre.com.br/MLB-21...  1.200.000   \n",
       "freq                                                    1         30   \n",
       "\n",
       "                                          Titulo Imóvel  \\\n",
       "count                                              2016   \n",
       "unique                                             1978   \n",
       "top     Apartamento Em Rio De Janeiro - Barra Da Tijuca   \n",
       "freq                                                  3   \n",
       "\n",
       "                                                 Endereço                Área  \\\n",
       "count                                                2016                2016   \n",
       "unique                                                380                 413   \n",
       "top     Barra Da Tijuca, Rio De Janeiro Zona Oeste, Ri...  100 m² construídos   \n",
       "freq                                                  958                  38   \n",
       "\n",
       "       Número de Quartos  \n",
       "count               2016  \n",
       "unique                 8  \n",
       "top            4 quartos  \n",
       "freq                 678  "
      ]
     },
     "execution_count": 52,
     "metadata": {},
     "output_type": "execute_result"
    }
   ],
   "source": [
    "df.describe()"
   ]
  },
  {
   "cell_type": "code",
   "execution_count": 53,
   "metadata": {},
   "outputs": [
    {
     "data": {
      "text/plain": [
       "0       False\n",
       "1       False\n",
       "2       False\n",
       "3       False\n",
       "4       False\n",
       "        ...  \n",
       "2011    False\n",
       "2012    False\n",
       "2013    False\n",
       "2014    False\n",
       "2015    False\n",
       "Length: 2016, dtype: bool"
      ]
     },
     "execution_count": 53,
     "metadata": {},
     "output_type": "execute_result"
    }
   ],
   "source": [
    "df.duplicated(subset=['Preço', 'Titulo Imóvel', 'Endereço', 'Área',\n",
    "       'Número de Quartos'])"
   ]
  },
  {
   "cell_type": "markdown",
   "metadata": {},
   "source": [
    "* Verificar duplicatas e eliminar as iguais"
   ]
  },
  {
   "cell_type": "code",
   "execution_count": 54,
   "metadata": {},
   "outputs": [],
   "source": [
    "df = df.drop_duplicates(subset=['Preço', 'Titulo Imóvel', 'Endereço', 'Área',\n",
    "       'Número de Quartos'], keep=\"first\")"
   ]
  },
  {
   "cell_type": "code",
   "execution_count": 55,
   "metadata": {},
   "outputs": [
    {
     "data": {
      "text/html": [
       "<div>\n",
       "<style scoped>\n",
       "    .dataframe tbody tr th:only-of-type {\n",
       "        vertical-align: middle;\n",
       "    }\n",
       "\n",
       "    .dataframe tbody tr th {\n",
       "        vertical-align: top;\n",
       "    }\n",
       "\n",
       "    .dataframe thead th {\n",
       "        text-align: right;\n",
       "    }\n",
       "</style>\n",
       "<table border=\"1\" class=\"dataframe\">\n",
       "  <thead>\n",
       "    <tr style=\"text-align: right;\">\n",
       "      <th></th>\n",
       "      <th>Url</th>\n",
       "      <th>Preço</th>\n",
       "      <th>Titulo Imóvel</th>\n",
       "      <th>Endereço</th>\n",
       "      <th>Área</th>\n",
       "      <th>Número de Quartos</th>\n",
       "    </tr>\n",
       "  </thead>\n",
       "  <tbody>\n",
       "    <tr>\n",
       "      <th>count</th>\n",
       "      <td>1980</td>\n",
       "      <td>1980</td>\n",
       "      <td>1980</td>\n",
       "      <td>1980</td>\n",
       "      <td>1980</td>\n",
       "      <td>1980</td>\n",
       "    </tr>\n",
       "    <tr>\n",
       "      <th>unique</th>\n",
       "      <td>1980</td>\n",
       "      <td>723</td>\n",
       "      <td>1978</td>\n",
       "      <td>380</td>\n",
       "      <td>413</td>\n",
       "      <td>8</td>\n",
       "    </tr>\n",
       "    <tr>\n",
       "      <th>top</th>\n",
       "      <td>https://apartamento.mercadolivre.com.br/MLB-21...</td>\n",
       "      <td>1.200.000</td>\n",
       "      <td>Apartamento Em Rio De Janeiro - Barra Da Tijuca</td>\n",
       "      <td>Barra Da Tijuca, Rio De Janeiro Zona Oeste, Ri...</td>\n",
       "      <td>100 m² construídos</td>\n",
       "      <td>4 quartos</td>\n",
       "    </tr>\n",
       "    <tr>\n",
       "      <th>freq</th>\n",
       "      <td>1</td>\n",
       "      <td>30</td>\n",
       "      <td>3</td>\n",
       "      <td>942</td>\n",
       "      <td>38</td>\n",
       "      <td>669</td>\n",
       "    </tr>\n",
       "  </tbody>\n",
       "</table>\n",
       "</div>"
      ],
      "text/plain": [
       "                                                      Url      Preço  \\\n",
       "count                                                1980       1980   \n",
       "unique                                               1980        723   \n",
       "top     https://apartamento.mercadolivre.com.br/MLB-21...  1.200.000   \n",
       "freq                                                    1         30   \n",
       "\n",
       "                                          Titulo Imóvel  \\\n",
       "count                                              1980   \n",
       "unique                                             1978   \n",
       "top     Apartamento Em Rio De Janeiro - Barra Da Tijuca   \n",
       "freq                                                  3   \n",
       "\n",
       "                                                 Endereço                Área  \\\n",
       "count                                                1980                1980   \n",
       "unique                                                380                 413   \n",
       "top     Barra Da Tijuca, Rio De Janeiro Zona Oeste, Ri...  100 m² construídos   \n",
       "freq                                                  942                  38   \n",
       "\n",
       "       Número de Quartos  \n",
       "count               1980  \n",
       "unique                 8  \n",
       "top            4 quartos  \n",
       "freq                 669  "
      ]
     },
     "execution_count": 55,
     "metadata": {},
     "output_type": "execute_result"
    }
   ],
   "source": [
    "df.describe()"
   ]
  },
  {
   "cell_type": "markdown",
   "metadata": {},
   "source": [
    "* Remover todos os m2 construidos da area"
   ]
  },
  {
   "cell_type": "markdown",
   "metadata": {},
   "source": [
    "* Colocar como número o preço do imóvel"
   ]
  },
  {
   "cell_type": "code",
   "execution_count": 56,
   "metadata": {},
   "outputs": [
    {
     "name": "stdout",
     "output_type": "stream",
     "text": [
      "Url                  object\n",
      "Preço                object\n",
      "Titulo Imóvel        object\n",
      "Endereço             object\n",
      "Área                 object\n",
      "Número de Quartos    object\n",
      "dtype: object\n"
     ]
    }
   ],
   "source": [
    "print(df.dtypes)"
   ]
  },
  {
   "cell_type": "code",
   "execution_count": 57,
   "metadata": {},
   "outputs": [
    {
     "data": {
      "text/plain": [
       "0    1.900.000\n",
       "1    1.922.800\n",
       "2    4.130.000\n",
       "3    1.350.000\n",
       "4    3.400.000\n",
       "Name: Preço, dtype: object"
      ]
     },
     "execution_count": 57,
     "metadata": {},
     "output_type": "execute_result"
    }
   ],
   "source": [
    "df['Preço'].head()"
   ]
  },
  {
   "cell_type": "markdown",
   "metadata": {},
   "source": [
    "* Removendo o ponto de dentro da string de Preço"
   ]
  },
  {
   "cell_type": "code",
   "execution_count": 65,
   "metadata": {},
   "outputs": [],
   "source": [
    "df['Preço'] = df['Preço'].replace('\\.', '', regex=True)"
   ]
  },
  {
   "cell_type": "markdown",
   "metadata": {},
   "source": [
    "* Forçando que a coluna Preço seja um número"
   ]
  },
  {
   "cell_type": "code",
   "execution_count": 66,
   "metadata": {},
   "outputs": [],
   "source": [
    "df['Preço'] = pd.to_numeric(df['Preço'])"
   ]
  },
  {
   "cell_type": "markdown",
   "metadata": {},
   "source": [
    "* Verificando o primeiro item da Coluna Numero de Quartos e identificando se só há números mesmo"
   ]
  },
  {
   "cell_type": "code",
   "execution_count": 67,
   "metadata": {},
   "outputs": [
    {
     "data": {
      "text/plain": [
       "0       3\n",
       "1       3\n",
       "2       3\n",
       "3       2\n",
       "4       3\n",
       "       ..\n",
       "2011    0\n",
       "2012    2\n",
       "2013    2\n",
       "2014    0\n",
       "2015    4\n",
       "Name: Número de Quartos, Length: 1980, dtype: object"
      ]
     },
     "execution_count": 67,
     "metadata": {},
     "output_type": "execute_result"
    }
   ],
   "source": [
    "df['Número de Quartos'].str.split(\" \").str[0]"
   ]
  },
  {
   "cell_type": "code",
   "execution_count": 68,
   "metadata": {},
   "outputs": [
    {
     "data": {
      "text/plain": [
       "array(['3', '2', '4', '1', '5', '0', '6', '7'], dtype=object)"
      ]
     },
     "execution_count": 68,
     "metadata": {},
     "output_type": "execute_result"
    }
   ],
   "source": [
    "df['Número de Quartos'].str.split(\" \").str[0].unique()"
   ]
  },
  {
   "cell_type": "markdown",
   "metadata": {},
   "source": [
    "* Só tem números, agora eu coloco essa primeira parte do Numero de Quartos (só o número), como a coluna. Substituindo."
   ]
  },
  {
   "cell_type": "code",
   "execution_count": 69,
   "metadata": {},
   "outputs": [],
   "source": [
    "df['Número de Quartos'] = df['Número de Quartos'].str.split(\" \").str[0]"
   ]
  },
  {
   "cell_type": "markdown",
   "metadata": {},
   "source": [
    "* Convertendo para número"
   ]
  },
  {
   "cell_type": "code",
   "execution_count": 82,
   "metadata": {},
   "outputs": [],
   "source": [
    "df['Número de Quartos'] = (df['Número de Quartos'].astype(int))"
   ]
  },
  {
   "cell_type": "code",
   "execution_count": 83,
   "metadata": {},
   "outputs": [
    {
     "data": {
      "text/plain": [
       "count    1980.000000\n",
       "mean        3.058586\n",
       "std         1.061334\n",
       "min         0.000000\n",
       "25%         2.000000\n",
       "50%         3.000000\n",
       "75%         4.000000\n",
       "max         7.000000\n",
       "Name: Número de Quartos, dtype: float64"
      ]
     },
     "execution_count": 83,
     "metadata": {},
     "output_type": "execute_result"
    }
   ],
   "source": [
    "df['Número de Quartos'].describe()"
   ]
  },
  {
   "cell_type": "markdown",
   "metadata": {},
   "source": [
    "* Convertendo área para número, primeiro separando o primeiro item da string (número) e depois corrigindo o erro da , no local do milhar"
   ]
  },
  {
   "cell_type": "code",
   "execution_count": 89,
   "metadata": {},
   "outputs": [],
   "source": [
    "df['Área'] = pd.to_numeric(df['Área'].str.split(\" \").str[0].replace('\\,', '', regex=True))"
   ]
  },
  {
   "cell_type": "code",
   "execution_count": 91,
   "metadata": {},
   "outputs": [
    {
     "data": {
      "text/plain": [
       "0       169\n",
       "1       203\n",
       "2       170\n",
       "3        75\n",
       "4       304\n",
       "       ... \n",
       "2011     27\n",
       "2012     77\n",
       "2013     73\n",
       "2014     24\n",
       "2015    156\n",
       "Name: Área, Length: 1980, dtype: int64"
      ]
     },
     "execution_count": 91,
     "metadata": {},
     "output_type": "execute_result"
    }
   ],
   "source": [
    "df[\"Área\"]"
   ]
  },
  {
   "cell_type": "code",
   "execution_count": null,
   "metadata": {},
   "outputs": [],
   "source": [
    "* Removendo duplicatas que escreveram mesmos parâmetros com título de imóvel diferente"
   ]
  },
  {
   "cell_type": "code",
   "execution_count": 92,
   "metadata": {},
   "outputs": [],
   "source": [
    "df = df.drop_duplicates(subset=['Preço', 'Endereço', 'Área',\n",
    "       'Número de Quartos'], keep=\"first\")"
   ]
  },
  {
   "cell_type": "code",
   "execution_count": 96,
   "metadata": {},
   "outputs": [
    {
     "name": "stdout",
     "output_type": "stream",
     "text": [
      "<class 'pandas.core.frame.DataFrame'>\n",
      "Int64Index: 1882 entries, 0 to 2015\n",
      "Data columns (total 6 columns):\n",
      " #   Column             Non-Null Count  Dtype \n",
      "---  ------             --------------  ----- \n",
      " 0   Url                1882 non-null   object\n",
      " 1   Preço              1882 non-null   int64 \n",
      " 2   Titulo Imóvel      1882 non-null   object\n",
      " 3   Endereço           1882 non-null   object\n",
      " 4   Área               1882 non-null   int64 \n",
      " 5   Número de Quartos  1882 non-null   int32 \n",
      "dtypes: int32(1), int64(2), object(3)\n",
      "memory usage: 95.6+ KB\n"
     ]
    }
   ],
   "source": [
    "df.info()"
   ]
  },
  {
   "cell_type": "code",
   "execution_count": 95,
   "metadata": {},
   "outputs": [],
   "source": [
    "df.to_csv('Resultados_Tratados_ML_Barra.csv')  "
   ]
  },
  {
   "cell_type": "code",
   "execution_count": null,
   "metadata": {},
   "outputs": [],
   "source": []
  }
 ],
 "metadata": {
  "kernelspec": {
   "display_name": "Python 3",
   "language": "python",
   "name": "python3"
  },
  "language_info": {
   "codemirror_mode": {
    "name": "ipython",
    "version": 3
   },
   "file_extension": ".py",
   "mimetype": "text/x-python",
   "name": "python",
   "nbconvert_exporter": "python",
   "pygments_lexer": "ipython3",
   "version": "3.8.5"
  }
 },
 "nbformat": 4,
 "nbformat_minor": 4
}
